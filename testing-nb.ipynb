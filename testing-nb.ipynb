{
 "cells": [
  {
   "cell_type": "code",
   "execution_count": 23,
   "id": "7623891f",
   "metadata": {},
   "outputs": [],
   "source": [
    "from langchain.chains import LLMChain\n",
    "from langchain_community.chat_models.azure_openai import AzureChatOpenAI\n",
    "import os\n",
    "from dotenv import load_dotenv"
   ]
  },
  {
   "cell_type": "code",
   "execution_count": 24,
   "id": "63b470f4",
   "metadata": {},
   "outputs": [
    {
     "data": {
      "text/plain": [
       "AIMessage(content='Hi there! 👋 How can I assist you today?', additional_kwargs={}, response_metadata={'token_usage': {'completion_tokens': 13, 'prompt_tokens': 9, 'total_tokens': 22, 'completion_tokens_details': {'accepted_prediction_tokens': 0, 'audio_tokens': 0, 'reasoning_tokens': 0, 'rejected_prediction_tokens': 0}, 'prompt_tokens_details': {'audio_tokens': 0, 'cached_tokens': 0}}, 'model_name': 'gpt-4o-2024-11-20', 'system_fingerprint': 'fp_ee1d74bde0', 'finish_reason': 'stop', 'logprobs': None}, id='run--0c82ba99-c828-4afc-8989-f2590c41f578-0')"
      ]
     },
     "execution_count": 24,
     "metadata": {},
     "output_type": "execute_result"
    }
   ],
   "source": [
    "load_dotenv()\n",
    "\n",
    "model = AzureChatOpenAI(\n",
    "    azure_endpoint=os.environ[\"AZURE_OPENAI_ENDPOINT_URL\"],\n",
    "    azure_deployment=os.environ[\"CHAT_MODEL\"],\n",
    "    openai_api_version=os.environ[\"API_VERSION\"],\n",
    "    api_key=os.environ[\"AZURE_OPENAI_API_KEY\"],\n",
    ")\n",
    "\n",
    "\n",
    "model.invoke(\"say hi\")"
   ]
  },
  {
   "cell_type": "code",
   "execution_count": 25,
   "id": "00e50391",
   "metadata": {},
   "outputs": [],
   "source": [
    "from langchain_core.prompts import StringPromptTemplate, ChatPromptTemplate, PromptTemplate\n",
    "\n",
    "prompt = ChatPromptTemplate.from_template('Say: {user_input}. My name is {name}.')"
   ]
  },
  {
   "cell_type": "code",
   "execution_count": 26,
   "id": "fe903ad6",
   "metadata": {},
   "outputs": [
    {
     "data": {
      "text/plain": [
       "{'user_input': 'hi',\n",
       " 'name': 'John',\n",
       " 'leonidas': 'Hi, John! Nice to meet you! How can I assist you today? 😊'}"
      ]
     },
     "execution_count": 26,
     "metadata": {},
     "output_type": "execute_result"
    }
   ],
   "source": [
    "from langchain.chains import LLMChain\n",
    "chain = LLMChain(\n",
    "    llm=model,\n",
    "    prompt=prompt,\n",
    "    output_key='leonidas'\n",
    ")\n",
    "\n",
    "chain.invoke({\"user_input\": \"hi\", \"name\": \"John\"})"
   ]
  },
  {
   "cell_type": "code",
   "execution_count": 27,
   "id": "9879c0d7",
   "metadata": {},
   "outputs": [
    {
     "data": {
      "text/plain": [
       "ChatPromptValue(messages=[HumanMessage(content='Say: hi. My name is John.', additional_kwargs={}, response_metadata={})])"
      ]
     },
     "execution_count": 27,
     "metadata": {},
     "output_type": "execute_result"
    }
   ],
   "source": [
    "prompt.invoke({\"name\": \"John\", \"user_input\": \"hi\"})"
   ]
  },
  {
   "cell_type": "code",
   "execution_count": 28,
   "id": "545d1a0d",
   "metadata": {},
   "outputs": [],
   "source": [
    "from langchain.chains import SequentialChain"
   ]
  },
  {
   "cell_type": "code",
   "execution_count": 29,
   "id": "8d21fa38",
   "metadata": {},
   "outputs": [],
   "source": [
    "prompt1 = ChatPromptTemplate.from_template(template='''Detect language of follwing message: {text}''')\n",
    "chain1 = LLMChain(llm=model, prompt=prompt1, output_key='language')\n",
    "\n",
    "prompt2 = ChatPromptTemplate.from_template(template='''Sumarize following message in 1 sentence: {text}''')\n",
    "chain2 = LLMChain(llm=model, prompt=prompt2, output_key='summary')\n",
    "\n",
    "prompt3 = ChatPromptTemplate.from_template(template='''Translate {summary} into {language}''')\n",
    "chain3 = LLMChain(llm=model, prompt=prompt3, output_key='translated_summary')"
   ]
  },
  {
   "cell_type": "code",
   "execution_count": 30,
   "id": "d10eb6e5",
   "metadata": {},
   "outputs": [
    {
     "name": "stdout",
     "output_type": "stream",
     "text": [
      "\n",
      "\n",
      "\u001b[1m> Entering new SequentialChain chain...\u001b[0m\n",
      "\n",
      "\u001b[1m> Finished chain.\u001b[0m\n"
     ]
    },
    {
     "data": {
      "text/plain": [
       "{'text': 'Do szkoły jedzie się całkiem długo, z powrotem nawet dłużej. W nocy, wracając skądś czasami, dużo mniej, choć więcej trzeba czekać na przystanku. No i jeszcze tyle samo jedzie się tam, skąd później wracać się będzie nocnymi. Jeszcze czasami idzie się pieszo załatwić sprawy, które można załatwić niedaleko domu. Te spacery należy również wliczyć w czas poświęcony na transport. W porównaniu całym dostępnym mi czasem transport pochłania, nie bagatelny, ale też nie zbyt duży fragment. A jednak namysł, który przeprowadza się w transporcie, stanowił nie proporcjonalnie do czasu dużą część myślenia, względem czasu. Nie należy się temu dziwić, biorąc pod uwagę, że czas snu zadaj kłam jakiejkolwiek próbie mierzenia namysłu za pomocą czasu i proporcji. Wciąż jednak można zwrócić uwagę na jakość myślenia, mierzoną na przykład żwawością, z którą pomysły przychodzą do głowy, albo inną podobną miarą. Jakiejkolwiek by jej nie wybrać, zdaje mi się, że namysł przeprowadzany w transporcie ma niebagatelnie dużą miarę.',\n",
       " 'language': 'The language of the message is **Polish**.',\n",
       " 'summary': 'Transport zajmuje znaczną część czasu, ale myślenie podczas podróży okazuje się wyjątkowo intensywne i produktywne w porównaniu do innych momentów dnia.',\n",
       " 'translated_summary': 'Transport takes up a significant amount of time, but thinking during travel turns out to be exceptionally intense and productive compared to other moments of the day.'}"
      ]
     },
     "execution_count": 30,
     "metadata": {},
     "output_type": "execute_result"
    }
   ],
   "source": [
    "chain = SequentialChain(\n",
    "    chains=[chain1, chain2, chain3],\n",
    "    input_variables=[\"text\"],\n",
    "    output_variables=['language', 'summary', 'translated_summary'],\n",
    "    verbose=True\n",
    ")\n",
    "\n",
    "text = '''Do szkoły jedzie się całkiem długo, z powrotem nawet dłużej. W nocy, wracając skądś czasami, dużo mniej, choć więcej trzeba czekać na przystanku. No i jeszcze tyle samo jedzie się tam, skąd później wracać się będzie nocnymi. Jeszcze czasami idzie się pieszo załatwić sprawy, które można załatwić niedaleko domu. Te spacery należy również wliczyć w czas poświęcony na transport. W porównaniu całym dostępnym mi czasem transport pochłania, nie bagatelny, ale też nie zbyt duży fragment. A jednak namysł, który przeprowadza się w transporcie, stanowił nie proporcjonalnie do czasu dużą część myślenia, względem czasu. Nie należy się temu dziwić, biorąc pod uwagę, że czas snu zadaj kłam jakiejkolwiek próbie mierzenia namysłu za pomocą czasu i proporcji. Wciąż jednak można zwrócić uwagę na jakość myślenia, mierzoną na przykład żwawością, z którą pomysły przychodzą do głowy, albo inną podobną miarą. Jakiejkolwiek by jej nie wybrać, zdaje mi się, że namysł przeprowadzany w transporcie ma niebagatelnie dużą miarę.'''\n",
    "\n",
    "chain.invoke({'text': text})"
   ]
  },
  {
   "cell_type": "code",
   "execution_count": 1,
   "id": "ffd207bd",
   "metadata": {},
   "outputs": [
    {
     "name": "stderr",
     "output_type": "stream",
     "text": [
      "C:\\Users\\Mikołaj\\AppData\\Local\\Temp\\ipykernel_14664\\3127493242.py:9: LangChainDeprecationWarning: Please see the migration guide at: https://python.langchain.com/docs/versions/migrating_memory/\n",
      "  memory = ConversationBufferMemory()\n"
     ]
    },
    {
     "ename": "NameError",
     "evalue": "name 'ChatPromptTemplate' is not defined",
     "output_type": "error",
     "traceback": [
      "\u001b[31m---------------------------------------------------------------------------\u001b[39m",
      "\u001b[31mNameError\u001b[39m                                 Traceback (most recent call last)",
      "\u001b[36mCell\u001b[39m\u001b[36m \u001b[39m\u001b[32mIn[1]\u001b[39m\u001b[32m, line 11\u001b[39m\n\u001b[32m      5\u001b[39m template1 = \u001b[33m'''\u001b[39m\u001b[33m \u001b[39m\n\u001b[32m      6\u001b[39m \u001b[38;5;132;01m{history}\u001b[39;00m\u001b[38;5;130;01m\\n\u001b[39;00m\n\u001b[32m      7\u001b[39m \u001b[38;5;132;01m{translated_user_input}\u001b[39;00m\n\u001b[32m      8\u001b[39m \u001b[33m'''\u001b[39m\n\u001b[32m      9\u001b[39m memory = ConversationBufferMemory()\n\u001b[32m---> \u001b[39m\u001b[32m11\u001b[39m chat_template = \u001b[43mChatPromptTemplate\u001b[49m.from_template(\u001b[33m'''\u001b[39m\u001b[33m \u001b[39m\n\u001b[32m     12\u001b[39m \u001b[33mYou are helpful assistan, that chats in \u001b[39m\u001b[38;5;132;01m{language}\u001b[39;00m\u001b[33m.\u001b[39m\n\u001b[32m     13\u001b[39m \n\u001b[32m     14\u001b[39m \u001b[33mCurrent conversation:\u001b[39m\n\u001b[32m     15\u001b[39m \u001b[38;5;132;01m{history}\u001b[39;00m\n\u001b[32m     16\u001b[39m \u001b[33mHuman: \u001b[39m\u001b[38;5;132;01m{human_msg}\u001b[39;00m\n\u001b[32m     17\u001b[39m \u001b[33m'''\u001b[39m)\n\u001b[32m     19\u001b[39m chat_chain = ConversationChain(llm=model, \n\u001b[32m     20\u001b[39m                                memory=memory,\n\u001b[32m     21\u001b[39m                                verbose=\u001b[38;5;28;01mTrue\u001b[39;00m,\n\u001b[32m     22\u001b[39m                                output_key=\u001b[33m'\u001b[39m\u001b[33meng_response\u001b[39m\u001b[33m'\u001b[39m,)\n\u001b[32m     23\u001b[39m                                \u001b[38;5;66;03m#template=chat_template)\u001b[39;00m\n",
      "\u001b[31mNameError\u001b[39m: name 'ChatPromptTemplate' is not defined"
     ]
    }
   ],
   "source": [
    "from langchain.memory import ConversationBufferMemory\n",
    "from langchain.chains import ConversationChain\n",
    "\n",
    "\n",
    "template1 = ''' \n",
    "{history}\\n\n",
    "{translated_user_input}\n",
    "'''\n",
    "memory = ConversationBufferMemory()\n",
    "\n",
    "chat_template = ChatPromptTemplate.from_template(''' \n",
    "You are helpful assistan, that chats in {language}.\n",
    "\n",
    "Current conversation:\n",
    "{history}\n",
    "Human: {human_msg}\n",
    "''')\n",
    "\n",
    "chat_chain = ConversationChain(llm=model, \n",
    "                               memory=memory,\n",
    "                               verbose=True,\n",
    "                               output_key='eng_response',)\n",
    "                               #template=chat_template)\n"
   ]
  },
  {
   "cell_type": "code",
   "execution_count": null,
   "id": "7be30ad5",
   "metadata": {},
   "outputs": [],
   "source": [
    "memory.clear()\n",
    "\n",
    "language_detect_chain = LLMChain(llm=model,\n",
    "                                 prompt=prompt1,\n",
    "                                 temperature=0.0,\n",
    "                                 output_key='language',)\n",
    "\n",
    "chat_chain\n",
    "\n"
   ]
  }
 ],
 "metadata": {
  "kernelspec": {
   "display_name": "venv",
   "language": "python",
   "name": "python3"
  },
  "language_info": {
   "codemirror_mode": {
    "name": "ipython",
    "version": 3
   },
   "file_extension": ".py",
   "mimetype": "text/x-python",
   "name": "python",
   "nbconvert_exporter": "python",
   "pygments_lexer": "ipython3",
   "version": "3.11.9"
  }
 },
 "nbformat": 4,
 "nbformat_minor": 5
}
